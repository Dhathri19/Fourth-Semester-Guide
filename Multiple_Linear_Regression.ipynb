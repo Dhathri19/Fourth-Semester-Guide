{
  "nbformat": 4,
  "nbformat_minor": 0,
  "metadata": {
    "colab": {
      "name": "Multiple_Linear_Regression.ipynb",
      "provenance": [],
      "toc_visible": true,
      "include_colab_link": true
    },
    "kernelspec": {
      "name": "python3",
      "display_name": "Python 3"
    }
  },
  "cells": [
    {
      "cell_type": "markdown",
      "metadata": {
        "id": "view-in-github",
        "colab_type": "text"
      },
      "source": [
        "<a href=\"https://colab.research.google.com/github/Dhathri19/Fourth-Semester-Guide/blob/main/Multiple_Linear_Regression.ipynb\" target=\"_parent\"><img src=\"https://colab.research.google.com/assets/colab-badge.svg\" alt=\"Open In Colab\"/></a>"
      ]
    },
    {
      "cell_type": "markdown",
      "metadata": {
        "id": "CazISR8X_HUG"
      },
      "source": [
        "# Multiple Linear Regression"
      ]
    },
    {
      "cell_type": "markdown",
      "metadata": {
        "id": "pOyqYHTk_Q57"
      },
      "source": [
        "## Importing the libraries"
      ]
    },
    {
      "cell_type": "code",
      "metadata": {
        "id": "T_YHJjnD_Tja"
      },
      "source": [
        "import numpy as np\n",
        "import matplotlib.pyplot as plt\n",
        "import pandas as pd"
      ],
      "execution_count": null,
      "outputs": []
    },
    {
      "cell_type": "markdown",
      "metadata": {
        "id": "vgC61-ah_WIz"
      },
      "source": [
        "## Importing the dataset"
      ]
    },
    {
      "cell_type": "code",
      "metadata": {
        "id": "UrxyEKGn_ez7"
      },
      "source": [
        "dataset = pd.read_csv('bpp_training_data.csv')\n",
        "X = dataset.iloc[:, dataset.columns != 'SalePrice'].values\n",
        "y = dataset.iloc[:, 1:2].values"
      ],
      "execution_count": null,
      "outputs": []
    },
    {
      "cell_type": "code",
      "metadata": {
        "id": "GOB3QhV9B5kD",
        "colab": {
          "base_uri": "https://localhost:8080/"
        },
        "outputId": "a3caa5b7-859d-4bfb-d9c5-3f1d9d55f9c9"
      },
      "source": [
        "print(X)"
      ],
      "execution_count": null,
      "outputs": [
        {
          "output_type": "stream",
          "name": "stdout",
          "text": [
            "[[1646770 1126363    8434 ...       1      17      17]\n",
            " [1821514 1194089   10150 ...       1      31      31]\n",
            " [1505138 1473654    4139 ...       1      31      31]\n",
            " ...\n",
            " [2433168 1714162    9580 ...       3      19      78]\n",
            " [1586638 1386512   11398 ...       3      19      78]\n",
            " [2396198 1082033    2144 ...       3      19      78]]\n"
          ]
        }
      ]
    },
    {
      "cell_type": "code",
      "source": [
        "print(y)"
      ],
      "metadata": {
        "colab": {
          "base_uri": "https://localhost:8080/"
        },
        "id": "PI1mjgR5bGVr",
        "outputId": "c3718d67-78c5-4ce8-ae7e-45c9e77c67dd"
      },
      "execution_count": null,
      "outputs": [
        {
          "output_type": "stream",
          "name": "stdout",
          "text": [
            "[[ 9500.]\n",
            " [14000.]\n",
            " [50000.]\n",
            " ...\n",
            " [11500.]\n",
            " [32000.]\n",
            " [47500.]]\n"
          ]
        }
      ]
    },
    {
      "cell_type": "markdown",
      "metadata": {
        "id": "WemVnqgeA70k"
      },
      "source": [
        "## Splitting the dataset into the Training set and Test set"
      ]
    },
    {
      "cell_type": "code",
      "metadata": {
        "id": "Kb_v_ae-A-20"
      },
      "source": [
        "from sklearn.model_selection import train_test_split\n",
        "X_train, X_test, y_train, y_test = train_test_split(X, y, test_size = 0.2, random_state = 0)"
      ],
      "execution_count": null,
      "outputs": []
    },
    {
      "cell_type": "code",
      "source": [
        "X_train"
      ],
      "metadata": {
        "colab": {
          "base_uri": "https://localhost:8080/"
        },
        "id": "1ASq5cL_a45J",
        "outputId": "93cfe9ad-8b22-4ea1-ba7e-9fcfa1cfcc24"
      },
      "execution_count": null,
      "outputs": [
        {
          "output_type": "execute_result",
          "data": {
            "text/plain": [
              "array([[1398665,  149377,    7009, ...,      12,      13,     347],\n",
              "       [4404003, 2295848,   19327, ...,       3,       4,      63],\n",
              "       [1261839, 1238451,    6788, ...,       2,       1,      32],\n",
              "       ...,\n",
              "       [1463411, 1480647,    7057, ...,       2,       4,      35],\n",
              "       [1370053, 1455796,    4146, ...,      10,      16,     289],\n",
              "       [1519615, 1274504,    1561, ...,      10,       9,     282]])"
            ]
          },
          "metadata": {},
          "execution_count": 180
        }
      ]
    },
    {
      "cell_type": "code",
      "source": [
        "X_test"
      ],
      "metadata": {
        "colab": {
          "base_uri": "https://localhost:8080/"
        },
        "id": "EiTgZQ_Pa7sC",
        "outputId": "cf0f201a-70b2-4612-ef6b-a52f4b96be20"
      },
      "execution_count": null,
      "outputs": [
        {
          "output_type": "execute_result",
          "data": {
            "text/plain": [
              "array([[1364026, 1272446,    7267, ...,       6,       5,     156],\n",
              "       [1657984, 1461055,    8572, ...,      12,      11,     346],\n",
              "       [1419341, 1354488,    7261, ...,       9,      16,     259],\n",
              "       ...,\n",
              "       [1319461, 1160720,    3538, ...,       9,       9,     253],\n",
              "       [1707921, 1137273,    5158, ...,       8,      31,     244],\n",
              "       [1282551, 1255839,    3170, ...,       4,      28,     119]])"
            ]
          },
          "metadata": {},
          "execution_count": 181
        }
      ]
    },
    {
      "cell_type": "code",
      "source": [
        "y_train"
      ],
      "metadata": {
        "colab": {
          "base_uri": "https://localhost:8080/"
        },
        "id": "gXyvjXIoa_U9",
        "outputId": "168c2eae-0154-4e06-8057-f9a37d3bae2d"
      },
      "execution_count": null,
      "outputs": [
        {
          "output_type": "execute_result",
          "data": {
            "text/plain": [
              "array([[12500.],\n",
              "       [ 9000.],\n",
              "       [22000.],\n",
              "       ...,\n",
              "       [28000.],\n",
              "       [12500.],\n",
              "       [19000.]])"
            ]
          },
          "metadata": {},
          "execution_count": 182
        }
      ]
    },
    {
      "cell_type": "code",
      "source": [
        "y_test"
      ],
      "metadata": {
        "colab": {
          "base_uri": "https://localhost:8080/"
        },
        "id": "l56XPbVWbCgv",
        "outputId": "3ea29825-1872-4189-aa21-a4c786ee9fb4"
      },
      "execution_count": null,
      "outputs": [
        {
          "output_type": "execute_result",
          "data": {
            "text/plain": [
              "array([[17000.],\n",
              "       [26000.],\n",
              "       [20000.],\n",
              "       ...,\n",
              "       [38000.],\n",
              "       [10000.],\n",
              "       [13750.]])"
            ]
          },
          "metadata": {},
          "execution_count": 183
        }
      ]
    },
    {
      "cell_type": "markdown",
      "metadata": {
        "id": "k-McZVsQBINc"
      },
      "source": [
        "## Training the Multiple Linear Regression model on the Training set"
      ]
    },
    {
      "cell_type": "code",
      "metadata": {
        "id": "ywPjx0L1BMiD",
        "colab": {
          "base_uri": "https://localhost:8080/"
        },
        "outputId": "a76f1a2c-4069-4bf2-822e-aab6b73e8d09"
      },
      "source": [
        "from sklearn.linear_model import LinearRegression\n",
        "regressor = LinearRegression()\n",
        "regressor.fit(X_train, y_train)"
      ],
      "execution_count": null,
      "outputs": [
        {
          "output_type": "execute_result",
          "data": {
            "text/plain": [
              "LinearRegression()"
            ]
          },
          "metadata": {},
          "execution_count": 184
        }
      ]
    },
    {
      "cell_type": "markdown",
      "metadata": {
        "id": "xNkXL1YQBiBT"
      },
      "source": [
        "## Predicting the Test set results"
      ]
    },
    {
      "cell_type": "code",
      "metadata": {
        "id": "TQKmwvtdBkyb",
        "colab": {
          "base_uri": "https://localhost:8080/"
        },
        "outputId": "35f91167-8e60-44fc-c096-faf23be3deb1"
      },
      "source": [
        "y_pred = regressor.predict(X_test)\n",
        "np.set_printoptions(precision=2)\n",
        "print(np.concatenate((y_pred.reshape(len(y_pred),1), y_test.reshape(len(y_test),1)),1))"
      ],
      "execution_count": null,
      "outputs": [
        {
          "output_type": "stream",
          "name": "stdout",
          "text": [
            "[[27713.32 17000.  ]\n",
            " [32026.71 26000.  ]\n",
            " [29391.89 20000.  ]\n",
            " ...\n",
            " [25031.07 38000.  ]\n",
            " [ 8522.3  10000.  ]\n",
            " [22761.28 13750.  ]]\n"
          ]
        }
      ]
    },
    {
      "cell_type": "code",
      "source": [
        "y_pred"
      ],
      "metadata": {
        "colab": {
          "base_uri": "https://localhost:8080/"
        },
        "id": "XYUPMrkrax_7",
        "outputId": "1a487ec5-981d-4e7e-af13-9325d06453f7"
      },
      "execution_count": null,
      "outputs": [
        {
          "output_type": "execute_result",
          "data": {
            "text/plain": [
              "array([[27713.32],\n",
              "       [32026.71],\n",
              "       [29391.89],\n",
              "       ...,\n",
              "       [25031.07],\n",
              "       [ 8522.3 ],\n",
              "       [22761.28]])"
            ]
          },
          "metadata": {},
          "execution_count": 186
        }
      ]
    },
    {
      "cell_type": "code",
      "source": [
        "print(np.mean((y_pred - y_test)**2))"
      ],
      "metadata": {
        "colab": {
          "base_uri": "https://localhost:8080/"
        },
        "id": "X386mOVaVUSN",
        "outputId": "af191646-26a4-4940-b04c-3e481be458a4"
      },
      "execution_count": null,
      "outputs": [
        {
          "output_type": "stream",
          "name": "stdout",
          "text": [
            "306907645.2900281\n"
          ]
        }
      ]
    },
    {
      "cell_type": "code",
      "source": [
        "regressor.score(X_test, y_test)"
      ],
      "metadata": {
        "colab": {
          "base_uri": "https://localhost:8080/"
        },
        "id": "e4oTrX2kUvZn",
        "outputId": "e21490dc-d67c-43d6-ec13-3e229c52442b"
      },
      "execution_count": null,
      "outputs": [
        {
          "output_type": "execute_result",
          "data": {
            "text/plain": [
              "0.4190212852589459"
            ]
          },
          "metadata": {},
          "execution_count": 188
        }
      ]
    }
  ]
}